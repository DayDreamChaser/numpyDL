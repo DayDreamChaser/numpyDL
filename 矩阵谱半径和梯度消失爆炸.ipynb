{
  "nbformat": 4,
  "nbformat_minor": 0,
  "metadata": {
    "colab": {
      "provenance": [],
      "authorship_tag": "ABX9TyPK3RKCgjaYfOQkJulWtUTw",
      "include_colab_link": true
    },
    "kernelspec": {
      "name": "python3",
      "display_name": "Python 3"
    },
    "language_info": {
      "name": "python"
    }
  },
  "cells": [
    {
      "cell_type": "markdown",
      "metadata": {
        "id": "view-in-github",
        "colab_type": "text"
      },
      "source": [
        "<a href=\"https://colab.research.google.com/github/DayDreamChaser/numpyDL/blob/main/%E7%9F%A9%E9%98%B5%E8%B0%B1%E5%8D%8A%E5%BE%84%E5%92%8C%E6%A2%AF%E5%BA%A6%E6%B6%88%E5%A4%B1%E7%88%86%E7%82%B8.ipynb\" target=\"_parent\"><img src=\"https://colab.research.google.com/assets/colab-badge.svg\" alt=\"Open In Colab\"/></a>"
      ]
    },
    {
      "cell_type": "code",
      "execution_count": null,
      "metadata": {
        "id": "wrH8EKeiEEiP"
      },
      "outputs": [],
      "source": [
        "import numpy as np"
      ]
    },
    {
      "cell_type": "code",
      "source": [
        "def numerical_diff(f, x):\n",
        "  h = 1e-4 # 0.0001\n",
        "  return (f(x+h) - f(x-h)) / (2*h)\n",
        "\n",
        "def numerical_gradient(f, x):\n",
        "  h = 1e-4 # 0.0001\n",
        "  grad = np.zeros_like(x) # 生成和x形状相同的数组\n",
        "  for idx in range(x.size):\n",
        "    tmp_val = x[idx]\n",
        "    # f(x+h)的计算\n",
        "    x[idx] = tmp_val + h\n",
        "    fxh1 = f(x)\n",
        "    # f(x-h)的计算\n",
        "    x[idx] = tmp_val - h\n",
        "    fxh2 = f(x)\n",
        "    grad[idx] = (fxh1 - fxh2) / (2*h)\n",
        "    x[idx] = tmp_val # 还原值\n",
        "\n",
        "  return grad"
      ],
      "metadata": {
        "id": "wmJC2vHjETm0"
      },
      "execution_count": null,
      "outputs": []
    },
    {
      "cell_type": "code",
      "source": [
        "def f1(x):\n",
        "  return x**2 + 2\n",
        "\n",
        "def function_1(x):\n",
        "  return 0.01*x**2 + 0.1*x"
      ],
      "metadata": {
        "id": "3Dq-oi8HEZLZ"
      },
      "execution_count": null,
      "outputs": []
    },
    {
      "cell_type": "code",
      "source": [
        "import numpy as np\n",
        "import matplotlib.pylab as plt\n",
        "x = np.arange(0.0, 20.0, 0.1) # 以0.1为单位，从0到20的数组x\n",
        "y = function_1(x)\n",
        "plt.xlabel(\"x\")\n",
        "plt.ylabel(\"f(x)\")\n",
        "plt.plot(x, y)\n",
        "plt.show()"
      ],
      "metadata": {
        "colab": {
          "base_uri": "https://localhost:8080/",
          "height": 449
        },
        "id": "TJroGjTnF3yO",
        "outputId": "8ef5e0a0-a337-4e54-a443-6b18821e9200"
      },
      "execution_count": null,
      "outputs": [
        {
          "output_type": "display_data",
          "data": {
            "text/plain": [
              "<Figure size 640x480 with 1 Axes>"
            ],
            "image/png": "[encoded data removed]"
          },
          "metadata": {}
        }
      ]
    },
    {
      "cell_type": "code",
      "source": [
        "numerical_diff(function_1, 5)"
      ],
      "metadata": {
        "colab": {
          "base_uri": "https://localhost:8080/"
        },
        "id": "EB9a_eceF85-",
        "outputId": "e6acd741-9b47-43f1-a415-f48ba171431e"
      },
      "execution_count": null,
      "outputs": [
        {
          "output_type": "execute_result",
          "data": {
            "text/plain": [
              "0.1999999999990898"
            ]
          },
          "metadata": {},
          "execution_count": 10
        }
      ]
    },
    {
      "cell_type": "code",
      "source": [
        "np.random.randint(5)"
      ],
      "metadata": {
        "colab": {
          "base_uri": "https://localhost:8080/"
        },
        "id": "stejG--0Efhd",
        "outputId": "7ba9a3ec-7300-41c8-ee30-2523c6177eff"
      },
      "execution_count": null,
      "outputs": [
        {
          "output_type": "execute_result",
          "data": {
            "text/plain": [
              "2"
            ]
          },
          "metadata": {},
          "execution_count": 5
        }
      ]
    },
    {
      "cell_type": "code",
      "source": [
        "x = np.random.randn(3, 2)\n",
        "eigenvalues, eigenvectors = np.linalg.eig(x.T @ x)\n",
        "eigenvalues"
      ],
      "metadata": {
        "colab": {
          "base_uri": "https://localhost:8080/"
        },
        "id": "0Gl922Apcs96",
        "outputId": "c3c5ce02-e830-4d6c-b358-79b692179f60"
      },
      "execution_count": null,
      "outputs": [
        {
          "output_type": "execute_result",
          "data": {
            "text/plain": [
              "array([3.69560232, 1.26577404])"
            ]
          },
          "metadata": {},
          "execution_count": 4
        }
      ]
    },
    {
      "cell_type": "code",
      "source": [
        "np.linalg.eig(x.T @ x)"
      ],
      "metadata": {
        "id": "4dHkDcjNc-zP",
        "outputId": "0e478535-1dcf-4007-b1ee-7fbd88cc15ac",
        "colab": {
          "base_uri": "https://localhost:8080/",
          "height": 294
        }
      },
      "execution_count": null,
      "outputs": [
        {
          "output_type": "error",
          "ename": "LinAlgError",
          "evalue": "Last 2 dimensions of the array must be square",
          "traceback": [
            "\u001b[0;31m---------------------------------------------------------------------------\u001b[0m",
            "\u001b[0;31mLinAlgError\u001b[0m                               Traceback (most recent call last)",
            "\u001b[0;32m<ipython-input-5-e902db25c59a>\u001b[0m in \u001b[0;36m<cell line: 1>\u001b[0;34m()\u001b[0m\n\u001b[0;32m----> 1\u001b[0;31m \u001b[0mnp\u001b[0m\u001b[0;34m.\u001b[0m\u001b[0mlinalg\u001b[0m\u001b[0;34m.\u001b[0m\u001b[0meig\u001b[0m\u001b[0;34m(\u001b[0m\u001b[0mx\u001b[0m\u001b[0;34m)\u001b[0m\u001b[0;34m\u001b[0m\u001b[0;34m\u001b[0m\u001b[0m\n\u001b[0m",
            "\u001b[0;32m/usr/local/lib/python3.10/dist-packages/numpy/linalg/linalg.py\u001b[0m in \u001b[0;36meig\u001b[0;34m(a)\u001b[0m\n\u001b[1;32m   1326\u001b[0m     \u001b[0ma\u001b[0m\u001b[0;34m,\u001b[0m \u001b[0mwrap\u001b[0m \u001b[0;34m=\u001b[0m \u001b[0m_makearray\u001b[0m\u001b[0;34m(\u001b[0m\u001b[0ma\u001b[0m\u001b[0;34m)\u001b[0m\u001b[0;34m\u001b[0m\u001b[0;34m\u001b[0m\u001b[0m\n\u001b[1;32m   1327\u001b[0m     \u001b[0m_assert_stacked_2d\u001b[0m\u001b[0;34m(\u001b[0m\u001b[0ma\u001b[0m\u001b[0;34m)\u001b[0m\u001b[0;34m\u001b[0m\u001b[0;34m\u001b[0m\u001b[0m\n\u001b[0;32m-> 1328\u001b[0;31m     \u001b[0m_assert_stacked_square\u001b[0m\u001b[0;34m(\u001b[0m\u001b[0ma\u001b[0m\u001b[0;34m)\u001b[0m\u001b[0;34m\u001b[0m\u001b[0;34m\u001b[0m\u001b[0m\n\u001b[0m\u001b[1;32m   1329\u001b[0m     \u001b[0m_assert_finite\u001b[0m\u001b[0;34m(\u001b[0m\u001b[0ma\u001b[0m\u001b[0;34m)\u001b[0m\u001b[0;34m\u001b[0m\u001b[0;34m\u001b[0m\u001b[0m\n\u001b[1;32m   1330\u001b[0m     \u001b[0mt\u001b[0m\u001b[0;34m,\u001b[0m \u001b[0mresult_t\u001b[0m \u001b[0;34m=\u001b[0m \u001b[0m_commonType\u001b[0m\u001b[0;34m(\u001b[0m\u001b[0ma\u001b[0m\u001b[0;34m)\u001b[0m\u001b[0;34m\u001b[0m\u001b[0;34m\u001b[0m\u001b[0m\n",
            "\u001b[0;32m/usr/local/lib/python3.10/dist-packages/numpy/linalg/linalg.py\u001b[0m in \u001b[0;36m_assert_stacked_square\u001b[0;34m(*arrays)\u001b[0m\n\u001b[1;32m    211\u001b[0m         \u001b[0mm\u001b[0m\u001b[0;34m,\u001b[0m \u001b[0mn\u001b[0m \u001b[0;34m=\u001b[0m \u001b[0ma\u001b[0m\u001b[0;34m.\u001b[0m\u001b[0mshape\u001b[0m\u001b[0;34m[\u001b[0m\u001b[0;34m-\u001b[0m\u001b[0;36m2\u001b[0m\u001b[0;34m:\u001b[0m\u001b[0;34m]\u001b[0m\u001b[0;34m\u001b[0m\u001b[0;34m\u001b[0m\u001b[0m\n\u001b[1;32m    212\u001b[0m         \u001b[0;32mif\u001b[0m \u001b[0mm\u001b[0m \u001b[0;34m!=\u001b[0m \u001b[0mn\u001b[0m\u001b[0;34m:\u001b[0m\u001b[0;34m\u001b[0m\u001b[0;34m\u001b[0m\u001b[0m\n\u001b[0;32m--> 213\u001b[0;31m             \u001b[0;32mraise\u001b[0m \u001b[0mLinAlgError\u001b[0m\u001b[0;34m(\u001b[0m\u001b[0;34m'Last 2 dimensions of the array must be square'\u001b[0m\u001b[0;34m)\u001b[0m\u001b[0;34m\u001b[0m\u001b[0;34m\u001b[0m\u001b[0m\n\u001b[0m\u001b[1;32m    214\u001b[0m \u001b[0;34m\u001b[0m\u001b[0m\n\u001b[1;32m    215\u001b[0m \u001b[0;32mdef\u001b[0m \u001b[0m_assert_finite\u001b[0m\u001b[0;34m(\u001b[0m\u001b[0;34m*\u001b[0m\u001b[0marrays\u001b[0m\u001b[0;34m)\u001b[0m\u001b[0;34m:\u001b[0m\u001b[0;34m\u001b[0m\u001b[0;34m\u001b[0m\u001b[0m\n",
            "\u001b[0;31mLinAlgError\u001b[0m: Last 2 dimensions of the array must be square"
          ]
        }
      ]
    },
    {
      "cell_type": "code",
      "source": [
        "import numpy as np\n",
        "import matplotlib.pyplot as plt\n",
        "\n",
        "N = 2 # mini-batch的大小\n",
        "H = 3 # 隐藏状态向量的维数\n",
        "T = 20 # 时序数据的长度\n",
        "dh = np.ones((N, H))\n",
        "print(\"dh:\\n\", dh)\n",
        "\n",
        "np.random.seed(3) # 为了复现，固定随机数种子\n",
        "# Wh = np.random.randn(H, H) # before\n",
        "Wh = np.random.randn(H, H) * 0.1 # after\n",
        "print(\"Wh:\\n\", Wh)\n",
        "U, S, V = np.linalg.svd(Wh)\n",
        "print(\"SinglarValue:\\n\", S)\n",
        "\n",
        "norm_list = []\n",
        "\n",
        "def f_norm(x):\n",
        "  # F范数\n",
        "  return np.sqrt(np.sum(x**2))\n",
        "\n",
        "def l2_norm(x):\n",
        "  # 谱范数(矩阵的最大的 谱半径/奇异值)\n",
        "  eigenvalue, featurevector = np.linalg.eig(x.T @ x)\n",
        "  lambda_x = max(eigenvalue) ** (0.5)\n",
        "  return lambda_x\n",
        "\n",
        "for t in range(T):\n",
        "  dh = np.dot(dh, Wh.T)\n",
        "  norm = f_norm(dh)\n",
        "  # norm = l2_norm(dh)\n",
        "  norm_list.append(norm)\n",
        "\n",
        "print(\"dh:\\n\", dh)\n",
        "print(\"norm_list:\", norm_list)\n",
        "\n",
        "plt.xlabel(\"x\")\n",
        "plt.ylabel(\"norm_list\")\n",
        "plt.plot(np.arange(0, T, 1), norm_list)\n",
        "plt.show()"
      ],
      "metadata": {
        "colab": {
          "base_uri": "https://localhost:8080/",
          "height": 702
        },
        "id": "-fgWw7jq18pj",
        "outputId": "e66c27eb-ecc9-4418-d24d-d4b5ad277609"
      },
      "execution_count": null,
      "outputs": [
        {
          "output_type": "stream",
          "name": "stdout",
          "text": [
            "dh:\n",
            " [[1. 1. 1.]\n",
            " [1. 1. 1.]]\n",
            "Wh:\n",
            " [[ 0.17886285  0.04365099  0.00964975]\n",
            " [-0.18634927 -0.02773882 -0.0354759 ]\n",
            " [-0.00827415 -0.06270007 -0.00438182]]\n",
            "SinglarValue:\n",
            " [0.26594289 0.0610067  0.0177763 ]\n",
            "dh:\n",
            " [[ 1.98001604e-18 -2.67750175e-18  1.16624752e-18]\n",
            " [ 1.98001604e-18 -2.67750175e-18  1.16624752e-18]]\n",
            "norm_list: [0.4936813618915862, 0.06671409948322074, 0.009566558750746365, 0.0012559174664175227, 0.00016161552930038108, 2.0502326064585876e-05, 2.5872127013219795e-06, 3.2553722655573417e-07, 4.0909659236691936e-08, 5.137794568416934e-09, 6.45063143609667e-10, 8.097791283367736e-11, 1.0164881461403816e-11, 1.275922530897085e-12, 1.6015474028617964e-13, 2.010259784410249e-14, 2.5232663695073634e-15, 3.167184129651763e-16, 3.975421593522388e-17, 4.9899123084253356e-18]\n"
          ]
        },
        {
          "output_type": "display_data",
          "data": {
            "text/plain": [
              "<Figure size 640x480 with 1 Axes>"
            ],
            "image/png": "[encoded data removed]"
          },
          "metadata": {}
        }
      ]
    },
    {
      "cell_type": "code",
      "source": [
        "print(l2_norm(dh))\n",
        "print(f_norm(dh))"
      ],
      "metadata": {
        "colab": {
          "base_uri": "https://localhost:8080/"
        },
        "id": "moVR2BUaNTIS",
        "outputId": "862711a5-bdc4-4b65-8541-9e933f6b6772"
      },
      "execution_count": null,
      "outputs": [
        {
          "output_type": "stream",
          "name": "stdout",
          "text": [
            "498.991230842534\n",
            "498.991230842534\n"
          ]
        }
      ]
    },
    {
      "cell_type": "code",
      "source": [
        "N, M = 3, 3\n",
        "# x = np.ones((N, M))\n",
        "x = np.eye(N, dtype=int)\n",
        "print(\"x:\\n\", x)\n",
        "\n",
        "U, S, V = np.linalg.svd(x)\n",
        "print(U, S, V)\n",
        "# print(V)"
      ],
      "metadata": {
        "colab": {
          "base_uri": "https://localhost:8080/"
        },
        "id": "3eJcp6GoSoX6",
        "outputId": "7887287e-bc34-4bcc-cf34-52820456543a"
      },
      "execution_count": null,
      "outputs": [
        {
          "output_type": "stream",
          "name": "stdout",
          "text": [
            "x:\n",
            " [[1 0 0]\n",
            " [0 1 0]\n",
            " [0 0 1]]\n",
            "[[1. 0. 0.]\n",
            " [0. 1. 0.]\n",
            " [0. 0. 1.]] [1. 1. 1.] [[1. 0. 0.]\n",
            " [0. 1. 0.]\n",
            " [0. 0. 1.]]\n"
          ]
        }
      ]
    },
    {
      "cell_type": "code",
      "source": [
        "Wh.shape"
      ],
      "metadata": {
        "colab": {
          "base_uri": "https://localhost:8080/"
        },
        "id": "j6C5fQPz3S0y",
        "outputId": "28ab2ae7-d00d-4e5b-a73e-b315e8197a16"
      },
      "execution_count": null,
      "outputs": [
        {
          "output_type": "execute_result",
          "data": {
            "text/plain": [
              "(3, 3)"
            ]
          },
          "metadata": {},
          "execution_count": 7
        }
      ]
    },
    {
      "cell_type": "code",
      "source": [
        "import numpy as np\n",
        "dW1 = np.random.rand(3, 3) * 10\n",
        "dW2 = np.random.rand(3, 3) * 10\n",
        "grads = [dW1, dW2]\n",
        "max_norm = 5.0\n",
        "\n",
        "def clip_grads(grads, max_norm):\n",
        "  total_norm = 0\n",
        "  for grad in grads:\n",
        "    total_norm += np.sqrt(np.sum(grad**2))\n",
        "  total_norm = np.sqrt(total_norm)\n",
        "\n",
        "  rate = max_norm / (total_norm + 1e-6)\n",
        "  print(\"rate: \", rate)\n",
        "  if rate < 1:\n",
        "    for idx, grad in enumerate(grads):\n",
        "      grads[idx] = grads[idx] * rate\n",
        "  return grads\n",
        "\n",
        "print(grads)\n",
        "clip_grads(grads, max_norm)"
      ],
      "metadata": {
        "colab": {
          "base_uri": "https://localhost:8080/"
        },
        "id": "ysNEhDeX5g5p",
        "outputId": "5b991026-43aa-4718-ff03-f907b41c70b1"
      },
      "execution_count": null,
      "outputs": [
        {
          "output_type": "stream",
          "name": "stdout",
          "text": [
            "[array([[2.0937335 , 7.30708124, 6.5112277 ],\n",
            "       [4.78978297, 2.74780505, 6.52223125],\n",
            "       [9.56449511, 4.35520556, 0.70132505]]), array([[0.57731488, 0.82871019, 9.59707187],\n",
            "       [5.40760836, 8.37462433, 1.70033544],\n",
            "       [2.60345073, 6.91977512, 8.95570328]])]\n",
            "rate:  0.8447973208196773\n"
          ]
        },
        {
          "output_type": "execute_result",
          "data": {
            "text/plain": [
              "[array([[1.76878045, 6.17300266, 5.50066772],\n",
              "        [4.04639582, 2.32133835, 5.50996349],\n",
              "        [8.08005985, 3.67926599, 0.59247752]]),\n",
              " array([[0.48771406, 0.70009215, 8.10758061],\n",
              "        [4.56833306, 7.07486019, 1.43643883],\n",
              "        [2.1993882 , 5.84580748, 7.56575414]])]"
            ]
          },
          "metadata": {},
          "execution_count": 21
        }
      ]
    }
  ]
}